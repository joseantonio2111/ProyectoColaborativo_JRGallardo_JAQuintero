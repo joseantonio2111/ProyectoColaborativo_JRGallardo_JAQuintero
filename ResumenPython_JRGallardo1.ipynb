{
 "cells": [
  {
   "cell_type": "code",
   "execution_count": 11,
   "metadata": {},
   "outputs": [
    {
     "name": "stdout",
     "output_type": "stream",
     "text": [
      "Ya duérmete\n"
     ]
    }
   ],
   "source": [
    "print('Ya duérmete')"
   ]
  },
  {
   "cell_type": "code",
   "execution_count": 12,
   "metadata": {},
   "outputs": [
    {
     "name": "stdout",
     "output_type": "stream",
     "text": [
      ">Nombre Raúl\n",
      "Bienvenido Raúl\n",
      "¿cuántos años tienes?23\n",
      "En 23 tendrás 46\n"
     ]
    }
   ],
   "source": [
    "%run programa.py"
   ]
  },
  {
   "cell_type": "code",
   "execution_count": 13,
   "metadata": {},
   "outputs": [
    {
     "name": "stdout",
     "output_type": "stream",
     "text": [
      "Nombre Jose\n",
      "Tú no eres master\n",
      "Identíficate Pepe\n",
      "Hasta pronto\n"
     ]
    }
   ],
   "source": [
    "nombre=input('Nombre ')\n",
    "if nombre == 'Raúl':\n",
    "    print('Bienvenido master')\n",
    "else:\n",
    "    print('Tú no eres master')\n",
    "    nombre = input('Identíficate ')\n",
    "print('Hasta pronto')"
   ]
  },
  {
   "cell_type": "code",
   "execution_count": 20,
   "metadata": {},
   "outputs": [
    {
     "name": "stdout",
     "output_type": "stream",
     "text": [
      "2\n"
     ]
    }
   ],
   "source": [
    "resta = 10 - \\\n",
    "        8   \n",
    "print(resta)"
   ]
  },
  {
   "cell_type": "code",
   "execution_count": 21,
   "metadata": {
    "collapsed": true
   },
   "outputs": [],
   "source": [
    "lista = ['hola',\n",
    "        'extraño']"
   ]
  },
  {
   "cell_type": "code",
   "execution_count": 22,
   "metadata": {},
   "outputs": [
    {
     "data": {
      "text/plain": [
       "['hola', 'extraño']"
      ]
     },
     "execution_count": 22,
     "metadata": {},
     "output_type": "execute_result"
    }
   ],
   "source": [
    "lista"
   ]
  },
  {
   "cell_type": "code",
   "execution_count": 27,
   "metadata": {},
   "outputs": [
    {
     "name": "stdout",
     "output_type": "stream",
     "text": [
      "<class 'str'>\n",
      "<class 'str'>\n",
      "<class 'str'>\n"
     ]
    }
   ],
   "source": [
    "palabra = 'palabra'\n",
    "print(type(palabra))\n",
    "palabra2 = 'palabra2'\n",
    "print(type(palabra2))\n",
    "oracion = \"\"\"Si funciona esto\n",
    "            de verdad si\"\"\"\n",
    "print(type(oracion))"
   ]
  },
  {
   "cell_type": "code",
   "execution_count": 47,
   "metadata": {
    "collapsed": true
   },
   "outputs": [],
   "source": [
    "# Dejando huella"
   ]
  },
  {
   "cell_type": "code",
   "execution_count": 48,
   "metadata": {},
   "outputs": [
    {
     "name": "stdout",
     "output_type": "stream",
     "text": [
      "\n",
      "\n",
      "Mira los espacios Oh!\n"
     ]
    },
    {
     "data": {
      "text/plain": [
       "'Oh!'"
      ]
     },
     "execution_count": 48,
     "metadata": {},
     "output_type": "execute_result"
    }
   ],
   "source": [
    "input('\\n\\nMira los espacios ')"
   ]
  },
  {
   "cell_type": "code",
   "execution_count": 33,
   "metadata": {},
   "outputs": [
    {
     "name": "stdout",
     "output_type": "stream",
     "text": [
      "hola\n"
     ]
    },
    {
     "data": {
      "text/plain": [
       "4"
      ]
     },
     "execution_count": 33,
     "metadata": {},
     "output_type": "execute_result"
    }
   ],
   "source": [
    "print('hola'); 2+2"
   ]
  },
  {
   "cell_type": "code",
   "execution_count": 40,
   "metadata": {},
   "outputs": [
    {
     "name": "stdout",
     "output_type": "stream",
     "text": [
      "0\n",
      "1\n",
      "2\n",
      "3\n"
     ]
    }
   ],
   "source": [
    "i=0\n",
    "while i<4:\n",
    "    print(i)\n",
    "    i=i+1"
   ]
  },
  {
   "cell_type": "markdown",
   "metadata": {},
   "source": [
    "# Clase 4"
   ]
  },
  {
   "cell_type": "markdown",
   "metadata": {},
   "source": [
    "### Funciones lista"
   ]
  },
  {
   "cell_type": "code",
   "execution_count": 15,
   "metadata": {},
   "outputs": [
    {
     "name": "stdout",
     "output_type": "stream",
     "text": [
      "[1, 2]\n",
      "32\n",
      "[2, 'color', [1, 2], 'fin', 'final']\n",
      "['inicio', 2, 'color', [1, 2], 'fin', 'final']\n",
      "['inicio', 2, 'color', [1, 2], 'fin', 'final', 5, 'jaja']\n",
      "['inicio', 2, [1, 2], 'fin', 'final', 5, 'jaja']\n"
     ]
    }
   ],
   "source": [
    "lista = [2,32,'color',[1,2],'fin']\n",
    "lista2 = [5,'jaja']\n",
    "print(lista[3])\n",
    "print(lista.pop(1))\n",
    "lista.append('final'); print(lista)\n",
    "lista.insert(0, 'inicio'); print(lista)\n",
    "lista.extend(lista2); print(lista)\n",
    "lista.remove('color'); print(lista)"
   ]
  },
  {
   "cell_type": "markdown",
   "metadata": {},
   "source": [
    "### Funciones diccionario"
   ]
  },
  {
   "cell_type": "code",
   "execution_count": 23,
   "metadata": {},
   "outputs": [
    {
     "name": "stdout",
     "output_type": "stream",
     "text": [
      "Papel moneda\n",
      "Real Madrid\n",
      "{'Dinero': 'Papel moneda', 'Color': 'Negro', 'Carrera': 'Finanzas'}\n",
      "True\n",
      "True\n",
      "dict_keys(['Dinero', 'Color', 'Carrera'])\n",
      "dict_values(['Papel moneda', 'Negro', 'Finanzas'])\n"
     ]
    }
   ],
   "source": [
    "diccionario = {'Equipo':'Real Madrid','Dinero':'Papel moneda','Color':'Negro','Carrera':'Finanzas'}\n",
    "print(diccionario.get('Dinero'))\n",
    "print(diccionario.pop('Equipo')); print(diccionario)\n",
    "print('Color' in diccionario)\n",
    "print('Finanzas' in diccionario.values())\n",
    "print(diccionario.keys())\n",
    "print(diccionario.values())"
   ]
  }
 ],
 "metadata": {
  "kernelspec": {
   "display_name": "Python 3",
   "language": "python",
   "name": "python3"
  },
  "language_info": {
   "codemirror_mode": {
    "name": "ipython",
    "version": 3
   },
   "file_extension": ".py",
   "mimetype": "text/x-python",
   "name": "python",
   "nbconvert_exporter": "python",
   "pygments_lexer": "ipython3",
   "version": "3.6.3"
  }
 },
 "nbformat": 4,
 "nbformat_minor": 2
}
