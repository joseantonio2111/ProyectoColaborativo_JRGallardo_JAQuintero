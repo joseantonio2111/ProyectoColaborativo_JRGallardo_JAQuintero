{
 "cells": [
  {
   "cell_type": "markdown",
   "metadata": {},
   "source": [
    "# Previo a simulación"
   ]
  },
  {
   "cell_type": "markdown",
   "metadata": {},
   "source": [
    "### Clases de programación hasta la fecha"
   ]
  },
  {
   "cell_type": "markdown",
   "metadata": {},
   "source": [
    "| Clases de programación |Semestre|\n",
    "| --------|---------|\n",
    "| Algoritmos y programación | Segundo  |\n",
    "| Simulación Matemática | Tercero |\n",
    "| Ciencia de datos e inteligencia de negocios | Quinto |\n",
    "| Simulación de procesos financieros | Sexto |"
   ]
  },
  {
   "cell_type": "markdown",
   "metadata": {},
   "source": [
    "# Expectativas"
   ]
  },
  {
   "cell_type": "markdown",
   "metadata": {},
   "source": [
    ">Vamos a empezar con las expectativas que se tienen del curso:\n",
    ">- Esperamos que esta sea una materia en la cual podamos implementar lo visto anteriormente en cursos de programación, para poder potenciarlo con aplicaciones más complejas.\n",
    ">- Darle un sentido con usos prácticos que nos puedan favorecer en nuestra área de estudio: **finanzas**.\n",
    ">- Lejos de ser una clase que nos haga transcribir texto o código, que sea útil para incentivarnos a involucrarnos más en este campo."
   ]
  },
  {
   "cell_type": "markdown",
   "metadata": {},
   "source": [
    "# Ecuaciones a considerar"
   ]
  },
  {
   "cell_type": "markdown",
   "metadata": {},
   "source": [
    "Una de las ecuaciones en las que más énfasis se nos ha hecho es la de Black-Scholes:\n",
    "$$\\frac{\\partial \\mathbf{f}}{\\partial t} + \\mathbf{r} \\mathbf{S} \\frac{\\partial \\mathbf{f}}{\\partial S} + \\frac{1}{2} \\sigma^2 S^2 \\frac{\\partial^2 \\mathbf{f}}{\\partial S^2} = r \\mathbf{f}$$"
   ]
  },
  {
   "cell_type": "markdown",
   "metadata": {},
   "source": [
    "<img style=\"float: left; margin: 15px 15px 15px 15px;\" src=\"https://i.imgur.com/6IOlF0E.jpg\" width=\"720\" height=\"200\" />"
   ]
  },
  {
   "cell_type": "markdown",
   "metadata": {
    "collapsed": true
   },
   "source": [
    "Fórmula de la aceleración:\n",
    "\n",
    "$$a=\\frac{m}{s^2}$$"
   ]
  },
  {
   "cell_type": "code",
   "execution_count": 2,
   "metadata": {},
   "outputs": [
    {
     "name": "stdout",
     "output_type": "stream",
     "text": [
      "3\n",
      "True\n"
     ]
    }
   ],
   "source": [
    "ans=input()\n",
    "if ans == (\"3\"):\n",
    "    print (\"True\")\n",
    "else:\n",
    "    print (\"False\")"
   ]
  },
  {
   "cell_type": "code",
   "execution_count": 3,
   "metadata": {},
   "outputs": [
    {
     "name": "stdout",
     "output_type": "stream",
     "text": [
      "Hola Mundo, esto es una prueba\n"
     ]
    }
   ],
   "source": [
    "\n",
    "print (\"Hola Mundo, esto es una prueba\")"
   ]
  },
  {
   "cell_type": "code",
   "execution_count": null,
   "metadata": {
    "collapsed": true
   },
   "outputs": [],
   "source": []
  }
 ],
 "metadata": {
  "kernelspec": {
   "display_name": "Python 3",
   "language": "python",
   "name": "python3"
  }
 },
 "nbformat": 4,
 "nbformat_minor": 2
}
